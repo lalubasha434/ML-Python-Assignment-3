{
 "cells": [
  {
   "cell_type": "markdown",
   "metadata": {},
   "source": [
    "Q.1.1 Write a Python Program to implement your own myreduce() function which works exactly like Python's built-in function reduce()"
   ]
  },
  {
   "cell_type": "code",
   "execution_count": 1,
   "metadata": {},
   "outputs": [
    {
     "name": "stdout",
     "output_type": "stream",
     "text": [
      "Sum of list[1,2,3,4,5] using my custom reduce function is:  15\n"
     ]
    }
   ],
   "source": [
    "''' My reduce custom function with the help of Sum function'''\n",
    "def myreduce(sum, sequence):\n",
    "    result = sequence[0]\n",
    "    for item in sequence[1:]:\n",
    "        result = sum(result, item)\n",
    "    return result\n",
    "\n",
    "def sum(x,y):\n",
    "    return x + y\n",
    "\n",
    "print (\"Sum of list[1,2,3,4,5] using my custom reduce function is: \", myreduce(sum, [1,2,3,4,5]))"
   ]
  },
  {
   "cell_type": "markdown",
   "metadata": {},
   "source": [
    "Q.2 Implement List comprehensions to produce the following lists.\n",
    "  \n",
    "  Write List comprehensions to produce the following Lists\n",
    "   \n",
    "    ['x', 'xx', 'xxx', 'xxxx', 'y', 'yy', 'yyy', 'yyyy', 'z', 'zz', 'zzz', 'zzzz']\n",
    "\n",
    "    ['x', 'y', 'z', 'xx', 'yy', 'zz', 'xxx', 'yyy', 'zzz', 'xxxx', 'yyyy', 'zzzz']\n",
    "    \n",
    "    [[2], [3], [4], [3], [4], [5], [4], [5], [6]]\n",
    "\n",
    "    [[2, 3, 4, 5], [3, 4, 5, 6], [4, 5, 6, 7], [5, 6, 7, 8]]\n",
    "\n",
    "    [(1, 1), (2, 1), (3, 1), (1, 2), (2, 2), (3, 2), (1, 3), (2, 3), (3, 3)]"
   ]
  },
  {
   "cell_type": "code",
   "execution_count": 2,
   "metadata": {},
   "outputs": [
    {
     "name": "stdout",
     "output_type": "stream",
     "text": [
      "['x','y','z'] =>  ['x', 'xx', 'xxx', 'xxxx', 'y', 'yy', 'yyy', 'yyyy', 'z', 'zz', 'zzz', 'zzzz'] ----------------------------------------------------------------------------------------------------\n",
      "['x','y','z'] =>  ['x', 'y', 'z', 'xx', 'yy', 'zz', 'xxx', 'yyy', 'zzz', 'xxxx', 'yyyy', 'zzzz'] ----------------------------------------------------------------------------------------------------\n",
      "[2,3,4] => [[2], [3], [4], [3], [4], [5], [4], [5], [6]] ----------------------------------------------------------------------------------------------------\n",
      "[2,3,4,5] => [[2, 3, 4, 5], [3, 4, 5, 6], [4, 5, 6, 7], [5, 6, 7, 8]] ----------------------------------------------------------------------------------------------------\n",
      "[1,2,3] => [(1, 1), (2, 1), (3, 1), (1, 2), (2, 2), (3, 2), (1, 3), (2, 3), (3, 3)]\n"
     ]
    }
   ],
   "source": [
    "input_list = ['x','y','z']\n",
    "result = [item*num for item in input_list for num in range(1,5)]\n",
    "print(\"['x','y','z'] => \", result, '-'*100)\n",
    "\n",
    "input_list = ['x','y','z']\n",
    "result = [item*num for num in range(1,5) for item in input_list]\n",
    "print(\"['x','y','z'] => \", result, '-'*100)\n",
    "\n",
    "input_list = [2,3,4]\n",
    "result = [[item+num] for item in input_list for num in range(0,3)]\n",
    "print(\"[2,3,4] =>\", result, '-'*100)\n",
    "\n",
    "input_list = [2,3,4,5]\n",
    "result = [ [item+num for item in input_list] for num in range(0,4)  ]\n",
    "print(\"[2,3,4,5] =>\", result, '-'*100)\n",
    "\n",
    "input_list=[1,2,3]\n",
    "result = [(y,x) for x in input_list for y in input_list]\n",
    "print(\"[1,2,3] =>\", result)"
   ]
  },
  {
   "cell_type": "code",
   "execution_count": null,
   "metadata": {},
   "outputs": [],
   "source": []
  }
 ],
 "metadata": {
  "kernelspec": {
   "display_name": "Python 3",
   "language": "python",
   "name": "python3"
  },
  "language_info": {
   "codemirror_mode": {
    "name": "ipython",
    "version": 3
   },
   "file_extension": ".py",
   "mimetype": "text/x-python",
   "name": "python",
   "nbconvert_exporter": "python",
   "pygments_lexer": "ipython3",
   "version": "3.7.4"
  }
 },
 "nbformat": 4,
 "nbformat_minor": 2
}
